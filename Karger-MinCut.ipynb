{
 "cells": [
  {
   "cell_type": "code",
   "execution_count": 1,
   "metadata": {},
   "outputs": [],
   "source": [
    "import random\n",
    "\n",
    "class Graph:\n",
    "    \n",
    "    def __init__(self, V = {}, E = []):\n",
    "        self.V = V\n",
    "        self.E = E\n",
    "        \n",
    "def build_random(nodes, p):\n",
    "    \n",
    "    V = set(range(random.randint(2, nodes)))\n",
    "\n",
    "    edges = [(u, v) for u in V for v in V if u != v]\n",
    "    \n",
    "    E = []\n",
    "    for edge in edges:\n",
    "        if random.random() > p:\n",
    "            E.append(edge)\n",
    "\n",
    "    return Graph(V, E)"
   ]
  },
  {
   "cell_type": "code",
   "execution_count": 2,
   "metadata": {},
   "outputs": [],
   "source": [
    "def contract(e, G):\n",
    "    \n",
    "    global COUNT\n",
    "    u, v = e\n",
    "\n",
    "    z = COUNT + 1\n",
    "    G.V |= {z}\n",
    "    \n",
    "    newV = G.V.copy()\n",
    "    newE = G.E.copy()\n",
    "    for (i, j) in G.E:\n",
    "        if i in (u, v) and j in (u, v):\n",
    "            newE.remove((i, j))\n",
    "        if i in (u, v) and j not in (u, v):\n",
    "            newE.remove((i, j))\n",
    "            newE += [(z, j)]\n",
    "        elif j in (u, v) and i not in (u, v):\n",
    "            newE.remove((i, j))\n",
    "            newE += [(i, z)]\n",
    "        \n",
    "    newV -= {u, v}\n",
    "    \n",
    "    COUNT += 1\n",
    "    \n",
    "    return Graph(newV, newE)"
   ]
  },
  {
   "cell_type": "code",
   "execution_count": 13,
   "metadata": {},
   "outputs": [],
   "source": [
    "import random as rd\n",
    "\n",
    "def min_karger(start, eps, verbose = False):\n",
    "    \n",
    "    global COUNT\n",
    "    \n",
    "    def karger(G):\n",
    "        C = []\n",
    "        S = Graph(G.V.copy(), G.E.copy())\n",
    "        while len(S.V) > 2:\n",
    "            edge = rd.choice(S.E)\n",
    "            S = contract(edge, S)\n",
    "            \n",
    "            C.append(edge)\n",
    "\n",
    "        return C, len(S.E)\n",
    "    \n",
    "    tot = int(sc.binom(len(S.V), 2) * math.log(1/eps))\n",
    "    m, best = (1000, [])\n",
    "    for t in range(tot):\n",
    "        COUNT = len(S.V)\n",
    "        G, temp = karger(S)\n",
    "\n",
    "        if verbose: \n",
    "            print(\"IT \", t, \"of\", tot, \":\", temp)\n",
    "\n",
    "        if temp < m:\n",
    "            m = temp\n",
    "            best = G\n",
    "\n",
    "    return m, best"
   ]
  },
  {
   "cell_type": "code",
   "execution_count": 23,
   "metadata": {},
   "outputs": [
    {
     "data": {
      "text/plain": [
       "(12,\n",
       " [(11, 15),\n",
       "  (13, 3),\n",
       "  (6, 1),\n",
       "  (7, 0),\n",
       "  (14, 16),\n",
       "  (5, 4),\n",
       "  (18, 21),\n",
       "  (24, 20),\n",
       "  (10, 25),\n",
       "  (26, 22),\n",
       "  (27, 19),\n",
       "  (28, 9),\n",
       "  (12, 29),\n",
       "  (30, 2),\n",
       "  (23, 31)])"
      ]
     },
     "execution_count": 23,
     "metadata": {},
     "output_type": "execute_result"
    }
   ],
   "source": [
    "import scipy.special as sc\n",
    "import math\n",
    "\n",
    "S = build_random(20, 0.5)\n",
    "\n",
    "eps = 0.00001\n",
    "\n",
    "min_karger(S, eps)"
   ]
  },
  {
   "cell_type": "code",
   "execution_count": null,
   "metadata": {},
   "outputs": [],
   "source": []
  }
 ],
 "metadata": {
  "kernelspec": {
   "display_name": "Python 3",
   "language": "python",
   "name": "python3"
  },
  "language_info": {
   "codemirror_mode": {
    "name": "ipython",
    "version": 3
   },
   "file_extension": ".py",
   "mimetype": "text/x-python",
   "name": "python",
   "nbconvert_exporter": "python",
   "pygments_lexer": "ipython3",
   "version": "3.8.5"
  }
 },
 "nbformat": 4,
 "nbformat_minor": 4
}
