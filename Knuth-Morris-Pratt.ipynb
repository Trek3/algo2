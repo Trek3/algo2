{
 "cells": [
  {
   "cell_type": "code",
   "execution_count": 15,
   "metadata": {},
   "outputs": [],
   "source": [
    "def build_table(W):\n",
    "    T = [0]*len(W)\n",
    "    \n",
    "    T[0] = -1\n",
    "    \n",
    "    pos = 2\n",
    "    cnd = 0\n",
    "    \n",
    "    while pos < len(W):\n",
    "        if W[pos-1] == W[cnd]:\n",
    "            T[pos] = cnd + 1\n",
    "            pos = pos + 1\n",
    "            cnd = cnd + 1\n",
    "        elif cnd > 0:\n",
    "            cnd = T[cnd]\n",
    "        else:\n",
    "            T[pos] = 0\n",
    "            pos = pos + 1\n",
    "    \n",
    "    return T"
   ]
  },
  {
   "cell_type": "code",
   "execution_count": 16,
   "metadata": {},
   "outputs": [],
   "source": [
    "def kmp(W, P):\n",
    "    m = 0\n",
    "    i = 0\n",
    "    T = build_table(P)\n",
    "    \n",
    "    while m + i < len(W) and i < len(P):\n",
    "        if W[m + i] == P[i]:\n",
    "            i = i + 1\n",
    "        else:\n",
    "            m = m + i - T[i]\n",
    "            if i > 0:\n",
    "                i = T[i]\n",
    "                \n",
    "    if i == len(P):\n",
    "        return m\n",
    "    else:\n",
    "        return m + i"
   ]
  },
  {
   "cell_type": "code",
   "execution_count": 18,
   "metadata": {},
   "outputs": [
    {
     "name": "stdout",
     "output_type": "stream",
     "text": [
      "Stringa: ABC DEF ABCDEF\n",
      "Pattern: ABCDEF\n"
     ]
    },
    {
     "data": {
      "text/plain": [
       "8"
      ]
     },
     "execution_count": 18,
     "metadata": {},
     "output_type": "execute_result"
    }
   ],
   "source": [
    "W = input('Stringa: ')\n",
    "P = input('Pattern: ')\n",
    "\n",
    "kmp(W, P)"
   ]
  },
  {
   "cell_type": "code",
   "execution_count": null,
   "metadata": {},
   "outputs": [],
   "source": []
  }
 ],
 "metadata": {
  "kernelspec": {
   "display_name": "Python 3",
   "language": "python",
   "name": "python3"
  },
  "language_info": {
   "codemirror_mode": {
    "name": "ipython",
    "version": 3
   },
   "file_extension": ".py",
   "mimetype": "text/x-python",
   "name": "python",
   "nbconvert_exporter": "python",
   "pygments_lexer": "ipython3",
   "version": "3.8.5"
  }
 },
 "nbformat": 4,
 "nbformat_minor": 4
}
